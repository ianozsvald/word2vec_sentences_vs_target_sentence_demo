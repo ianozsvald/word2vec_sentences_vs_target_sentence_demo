{
 "cells": [
  {
   "cell_type": "markdown",
   "metadata": {},
   "source": [
    "# word2vec demo of sentence similarity between a target phrase and some example sentences (proxies for documents)"
   ]
  },
  {
   "cell_type": "code",
   "execution_count": 1,
   "metadata": {
    "collapsed": false
   },
   "outputs": [
    {
     "name": "stderr",
     "output_type": "stream",
     "text": [
      "/home/ian/anaconda/envs/scratch/lib/python3.4/site-packages/matplotlib/__init__.py:872: UserWarning: axes.color_cycle is deprecated and replaced with axes.prop_cycle; please use the latter.\n",
      "  warnings.warn(self.msg_depr % (key, alt_key))\n"
     ]
    }
   ],
   "source": [
    "import numpy as np\n",
    "import matplotlib.pyplot as plt\n",
    "import seaborn as sns\n",
    "import pandas as pd\n",
    "import pprint\n",
    "from gensim.models import word2vec\n",
    "\n",
    "%matplotlib inline"
   ]
  },
  {
   "cell_type": "code",
   "execution_count": 16,
   "metadata": {
    "collapsed": true
   },
   "outputs": [],
   "source": [
    "if False:\n",
    "    # start an interactive console \n",
    "    %qtconsole style=monokai"
   ]
  },
  {
   "cell_type": "code",
   "execution_count": 17,
   "metadata": {
    "collapsed": false
   },
   "outputs": [
    {
     "name": "stdout",
     "output_type": "stream",
     "text": [
      "The watermark extension is already loaded. To reload it, use:\n",
      "  %reload_ext watermark\n",
      "2016-02-19 \n",
      "\n",
      "CPython 3.4.4\n",
      "IPython 4.0.3\n",
      "\n",
      "numpy 1.10.4\n",
      "matplotlib 1.5.1\n",
      "\n",
      "compiler   : GCC 4.4.7 20120313 (Red Hat 4.4.7-1)\n",
      "system     : Linux\n",
      "release    : 3.16.0-38-generic\n",
      "machine    : x86_64\n",
      "processor  : x86_64\n",
      "CPU cores  : 8\n",
      "interpreter: 64bit\n",
      "Git hash   : \n"
     ]
    }
   ],
   "source": [
    "# %install_ext https://raw.githubusercontent.com/rasbt/watermark/master/watermark.py\n",
    "%load_ext watermark\n",
    "# show a watermark for this environment\n",
    "%watermark -d -m -v -p numpy,matplotlib -g"
   ]
  },
  {
   "cell_type": "code",
   "execution_count": 5,
   "metadata": {
    "collapsed": false
   },
   "outputs": [
    {
     "name": "stdout",
     "output_type": "stream",
     "text": [
      "Loaded 3000000 words in vocabulary\n"
     ]
    }
   ],
   "source": [
    "# load w2v from pre-built Google data\n",
    "w2v = word2vec.Word2Vec()\n",
    "# download bin.gz from: https://code.google.com/archive/p/word2vec/\n",
    "w2v = w2v.load_word2vec_format(\"/home/ian/data/word2vec/GoogleNews-vectors-negative300.bin\", binary=True)\n",
    "\n",
    "w2v_vocab = set(w2v.vocab)\n",
    "\n",
    "print(\"Loaded {} words in vocabulary\".format(len(w2v_vocab)))"
   ]
  },
  {
   "cell_type": "code",
   "execution_count": 19,
   "metadata": {
    "collapsed": false
   },
   "outputs": [
    {
     "data": {
      "text/plain": [
       "0.61606181393087323"
      ]
     },
     "execution_count": 19,
     "metadata": {},
     "output_type": "execute_result"
    }
   ],
   "source": [
    "# example of a similarity query, result in the range [0..1]\n",
    "w2v.similarity(\"Pepsi\", \"Coke\")"
   ]
  },
  {
   "cell_type": "markdown",
   "metadata": {},
   "source": [
    "## Make a similarity matrix for words and draw"
   ]
  },
  {
   "cell_type": "code",
   "execution_count": 20,
   "metadata": {
    "collapsed": false
   },
   "outputs": [],
   "source": [
    "words = [\"Coca_Cola\", \"Pepsi\", \"pepsi\", \"cola\", \"Microsoft\", \"Samsung\", \"Apple\", \"Google\"]\n",
    "similarities = np.zeros((len(words), len(words)), dtype=np.float_)\n",
    "for idx1, word1 in enumerate(words):\n",
    "    for idx2, word2 in enumerate(words):\n",
    "        # note KeyError is possible if word doesn't exist\n",
    "        sim = w2v.similarity(word1, word2)\n",
    "        similarities[idx1, idx2] = sim\n",
    "        \n",
    "df = pd.DataFrame.from_records(similarities, columns=words)\n",
    "df.index = words"
   ]
  },
  {
   "cell_type": "code",
   "execution_count": 22,
   "metadata": {
    "collapsed": false
   },
   "outputs": [
    {
     "data": {
      "image/png": "[encoded data removed]",
      "text/plain": [
       "<matplotlib.figure.Figure at 0x7fe8ca21c908>"
      ]
     },
     "metadata": {},
     "output_type": "display_data"
    }
   ],
   "source": [
    "f, ax=plt.subplots(1, 1, figsize=(14,8))\n",
    "cmap = plt.cm.Blues\n",
    "mask = np.zeros_like(df)\n",
    "mask[np.triu_indices_from(mask)] = True\n",
    "sns.heatmap(df, cmap=cmap, mask=mask, square=True, ax=ax)\n",
    "_=plt.yticks(rotation=90)\n",
    "plt.xlabel('Words')\n",
    "_=plt.xticks(rotation=45)\n",
    "_=plt.title(\"Similarities between words\")\n",
    "\n",
    "# we can see that pepsi/coke are similar and tech-brands are similar, but they're not similar between each group"
   ]
  },
  {
   "cell_type": "markdown",
   "metadata": {},
   "source": [
    "## Try to score a target sentence to source sentences"
   ]
  },
  {
   "cell_type": "code",
   "execution_count": 23,
   "metadata": {
    "collapsed": true
   },
   "outputs": [],
   "source": [
    "# example sentences (pretend these are from subtitles)\n",
    "sentences = [\"I'm happy to shop in Walmart and buy a Google phone\",\n",
    "             \"In today's demo we'll look at Office and Word from microsoft\",\n",
    "             \"Tech companies like Apple with their iPhone are the new cool\",\n",
    "             \"Yesterday I went swimming\",\n",
    "             \"Pepsi is drunk by a New Generation\",\n",
    "             \"Ian has an Nexus 5 for his telephone\", # note Nexus and Google are 0.2 similar in this model (!)\n",
    "             \"Bob has an Android Nexus 5 for his telephone\", # Android and Google and 0.56 similar in this model\n",
    "             \"Alice drinks coffee every morning\",\n",
    "             \"Thomas ate all the pies and is learning the joys of sci-fi\",\n",
    "             \"I want to drink a coke and eat something\",\n",
    "             \"You'll be happier if you take a swim\",\n",
    "             \"This is a really long sentence that hopefully doesn't get a very high score just because it has lots of words in it!\"]\n",
    "\n",
    "# here's a target we'd like to score against\n",
    "#target_sentence = \"You'd love to drink a cool refreshing Coke\"\n",
    "target_sentence = \"Microsoft smartphones are the latest buzz\""
   ]
  },
  {
   "cell_type": "code",
   "execution_count": 25,
   "metadata": {
    "collapsed": false
   },
   "outputs": [
    {
     "name": "stdout",
     "output_type": "stream",
     "text": [
      "Target: Microsoft smartphones are the latest buzz\n",
      "[(0.74686066803665185,\n",
      "  'Tech companies like Apple with their iPhone are the new cool'),\n",
      " (0.53591642419908303,\n",
      "  'Thomas ate all the pies and is learning the joys of sci-fi'),\n",
      " (0.51159241518507537, \"I'm happy to shop in Walmart and buy a Google phone\"),\n",
      " (0.50628555484687687, 'Bob has an Android Nexus 5 for his telephone'),\n",
      " (0.49553512193357013,\n",
      "  \"In today's demo we'll look at Office and Word from microsoft\"),\n",
      " (0.48822586718911232,\n",
      "  \"This is a really long sentence that hopefully doesn't get a very high \"\n",
      "  'score just because it has lots of words in it!'),\n",
      " (0.45002837615820096, 'Pepsi is drunk by a New Generation'),\n",
      " (0.41163223825742401, 'Ian has an Nexus 5 for his telephone'),\n",
      " (0.35430203629383683, \"You'll be happier if you take a swim\"),\n",
      " (0.27233323547177379, 'I want to drink a coke and eat something'),\n",
      " (0.26758033414210081, 'Alice drinks coffee every morning'),\n",
      " (0.20610100322639471, 'Yesterday I went swimming')]\n"
     ]
    }
   ],
   "source": [
    "# use n_similarity to compute a cosine similarity (should be reasonably robust)\n",
    "sentences_similarity = np.zeros(len(sentences))\n",
    "\n",
    "target_sentence_words = [w for w in target_sentence.split() if w in w2v_vocab]\n",
    "for idx, sentence in enumerate(sentences):\n",
    "    sentence_words = [w for w in sentence.split() if w in w2v_vocab]\n",
    "    sim = w2v.n_similarity(target_sentence_words, sentence_words)\n",
    "    sentences_similarity[idx] = sim\n",
    "\n",
    "result = list(zip(sentences_similarity, sentences))\n",
    "result.sort(key=lambda item:item[0], reverse=True)\n",
    "print(\"Target:\", target_sentence)\n",
    "pprint.pprint(result)\n",
    "\n",
    "# Show the target phrase and the most-similar target phrases"
   ]
  },
  {
   "cell_type": "code",
   "execution_count": 26,
   "metadata": {
    "collapsed": false
   },
   "outputs": [
    {
     "name": "stdout",
     "output_type": "stream",
     "text": [
      "Target: Microsoft smartphones are the latest buzz\n",
      "[(0.085103496931917391, 'Alice drinks coffee every morning'),\n",
      " (0.082433348620532837, 'I want to drink a coke and eat something'),\n",
      " (0.070647013027927835,\n",
      "  'Tech companies like Apple with their iPhone are the new cool'),\n",
      " (0.068455589789769275, 'Pepsi is drunk by a New Generation'),\n",
      " (0.064595146990399574, \"I'm happy to shop in Walmart and buy a Google phone\"),\n",
      " (0.058744101350012512,\n",
      "  \"In today's demo we'll look at Office and Word from microsoft\"),\n",
      " (0.050154821482209774, 'Yesterday I went swimming'),\n",
      " (0.025862872862061115, 'Ian has an Nexus 5 for his telephone'),\n",
      " (0.022989220321832104, 'Bob has an Android Nexus 5 for his telephone'),\n",
      " (0.014266848257751225, \"You'll be happier if you take a swim\"),\n",
      " (0.0, 'Thomas ate all the pies and is learning the joys of sci-fi'),\n",
      " (0.0,\n",
      "  \"This is a really long sentence that hopefully doesn't get a very high \"\n",
      "  'score just because it has lots of words in it!')]\n"
     ]
    }
   ],
   "source": [
    "# try a naive mean of scores method, this is far less robust\n",
    "sentences_similarity = np.zeros(len(sentences))\n",
    "\n",
    "for idx, sentence in enumerate(sentences):\n",
    "    sentence_words = sentence.split()\n",
    "    for word in sentence_words:\n",
    "        sim_to_sentence = 0\n",
    "        for target in target_sentence.split():\n",
    "            try:\n",
    "                sim_to_sentence += w2v.similarity(word, target)\n",
    "            except KeyError:\n",
    "                pass # ignore words that aren't in vocabulary\n",
    "        sim_to_sentence /= len(sentence_words)\n",
    "    sentences_similarity[idx] += sim_to_sentence\n",
    "\n",
    "\n",
    "result = list(zip(sentences_similarity, sentences))\n",
    "result.sort(key=lambda item:item[0], reverse=True)\n",
    "print(\"Target:\", target_sentence)\n",
    "pprint.pprint(result)"
   ]
  },
  {
   "cell_type": "markdown",
   "metadata": {},
   "source": [
    "# Next steps\n",
    "\n",
    "* Try doc2vec (might need to train on fresh data?) https://github.com/piskvorky/gensim/blob/develop/docs/notebooks/doc2vec-IMDB.ipynb\n",
    "* Train on subtitle data, try using a 'genuine advert'    \n",
    "* On training, consider how adding more of the right terms rapidly gets us to a stable similarity measure ![reference](https://twitter.com/ianozsvald/status/611581722426216448?cn=cmVwbHk%3D&refsrc=email):\n",
    "\n",
    "![scaling](https://pbs.twimg.com/media/CHzGVebXAAAsuXH.png) \n",
    "\n"
   ]
  }
 ],
 "metadata": {
  "kernelspec": {
   "display_name": "Python 3",
   "language": "python",
   "name": "python3"
  },
  "language_info": {
   "codemirror_mode": {
    "name": "ipython",
    "version": 3
   },
   "file_extension": ".py",
   "mimetype": "text/x-python",
   "name": "python",
   "nbconvert_exporter": "python",
   "pygments_lexer": "ipython3",
   "version": "3.4.4"
  }
 },
 "nbformat": 4,
 "nbformat_minor": 0
}
